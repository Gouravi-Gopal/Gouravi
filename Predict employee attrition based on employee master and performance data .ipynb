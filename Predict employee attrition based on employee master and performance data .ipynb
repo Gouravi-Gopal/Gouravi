{
 "cells": [
  {
   "cell_type": "markdown",
   "metadata": {},
   "source": [
    "## Predict employee attrition"
   ]
  },
  {
   "cell_type": "code",
   "execution_count": 12,
   "metadata": {},
   "outputs": [
    {
     "name": "stdout",
     "output_type": "stream",
     "text": [
      "Requirement already satisfied: xgboost in c:\\users\\91916\\anaconda3\\lib\\site-packages (0.90)\n",
      "Requirement already satisfied: numpy in c:\\users\\91916\\anaconda3\\lib\\site-packages (from xgboost) (1.16.4)\n",
      "Requirement already satisfied: scipy in c:\\users\\91916\\anaconda3\\lib\\site-packages (from xgboost) (1.3.0)\n"
     ]
    }
   ],
   "source": [
    "!pip install xgboost\n",
    "import warnings\n",
    "warnings.filterwarnings(\"ignore\")\n",
    "\n",
    "import pandas as pd\n",
    "import numpy as np"
   ]
  },
  {
   "cell_type": "markdown",
   "metadata": {},
   "source": [
    "## Read train and test data"
   ]
  },
  {
   "cell_type": "code",
   "execution_count": 13,
   "metadata": {},
   "outputs": [],
   "source": [
    "employee_data = pd.read_csv(\"employee_data.csv\", header=0, sep=',')\n",
    "train_work = pd.read_csv(\"train_work.csv\", header=0, sep=',')\n",
    "train_attrition = pd.read_csv(\"train_attrition.csv\", header=0, sep=',')\n",
    "\n",
    "test_work = pd.read_csv(\"test_work.csv\", header=0, sep=',')\n",
    "test_attrition = pd.read_csv(\"test_attrition.csv\", header=0, sep=',')"
   ]
  },
  {
   "cell_type": "code",
   "execution_count": 14,
   "metadata": {},
   "outputs": [
    {
     "data": {
      "text/html": [
       "<div>\n",
       "<style scoped>\n",
       "    .dataframe tbody tr th:only-of-type {\n",
       "        vertical-align: middle;\n",
       "    }\n",
       "\n",
       "    .dataframe tbody tr th {\n",
       "        vertical-align: top;\n",
       "    }\n",
       "\n",
       "    .dataframe thead th {\n",
       "        text-align: right;\n",
       "    }\n",
       "</style>\n",
       "<table border=\"1\" class=\"dataframe\">\n",
       "  <thead>\n",
       "    <tr style=\"text-align: right;\">\n",
       "      <th></th>\n",
       "      <th>EmployeeID</th>\n",
       "      <th>TotalWorkingHours</th>\n",
       "      <th>Billable_Hours</th>\n",
       "      <th>Hours_off_Duty</th>\n",
       "      <th>Touring_Hours</th>\n",
       "      <th>NoOfProjects</th>\n",
       "      <th>ActualTimeSpent</th>\n",
       "    </tr>\n",
       "  </thead>\n",
       "  <tbody>\n",
       "    <tr>\n",
       "      <th>0</th>\n",
       "      <td>emp-1</td>\n",
       "      <td>3424.0</td>\n",
       "      <td>2462.0</td>\n",
       "      <td>408.0</td>\n",
       "      <td>2462.0</td>\n",
       "      <td>42</td>\n",
       "      <td>2849</td>\n",
       "    </tr>\n",
       "    <tr>\n",
       "      <th>1</th>\n",
       "      <td>emp-10</td>\n",
       "      <td>2006.0</td>\n",
       "      <td>1274.0</td>\n",
       "      <td>328.0</td>\n",
       "      <td>691.0</td>\n",
       "      <td>13</td>\n",
       "      <td>616</td>\n",
       "    </tr>\n",
       "    <tr>\n",
       "      <th>2</th>\n",
       "      <td>emp-100</td>\n",
       "      <td>3607.0</td>\n",
       "      <td>3275.0</td>\n",
       "      <td>224.0</td>\n",
       "      <td>3235.0</td>\n",
       "      <td>23</td>\n",
       "      <td>3388</td>\n",
       "    </tr>\n",
       "    <tr>\n",
       "      <th>3</th>\n",
       "      <td>emp-101</td>\n",
       "      <td>4109.5</td>\n",
       "      <td>2759.5</td>\n",
       "      <td>192.0</td>\n",
       "      <td>0.0</td>\n",
       "      <td>18</td>\n",
       "      <td>1953</td>\n",
       "    </tr>\n",
       "    <tr>\n",
       "      <th>4</th>\n",
       "      <td>emp-102</td>\n",
       "      <td>3790.0</td>\n",
       "      <td>2720.5</td>\n",
       "      <td>344.0</td>\n",
       "      <td>1861.0</td>\n",
       "      <td>20</td>\n",
       "      <td>2254</td>\n",
       "    </tr>\n",
       "  </tbody>\n",
       "</table>\n",
       "</div>"
      ],
      "text/plain": [
       "  EmployeeID  TotalWorkingHours  Billable_Hours  Hours_off_Duty  \\\n",
       "0      emp-1             3424.0          2462.0           408.0   \n",
       "1     emp-10             2006.0          1274.0           328.0   \n",
       "2    emp-100             3607.0          3275.0           224.0   \n",
       "3    emp-101             4109.5          2759.5           192.0   \n",
       "4    emp-102             3790.0          2720.5           344.0   \n",
       "\n",
       "   Touring_Hours  NoOfProjects  ActualTimeSpent  \n",
       "0         2462.0            42             2849  \n",
       "1          691.0            13              616  \n",
       "2         3235.0            23             3388  \n",
       "3            0.0            18             1953  \n",
       "4         1861.0            20             2254  "
      ]
     },
     "execution_count": 14,
     "metadata": {},
     "output_type": "execute_result"
    }
   ],
   "source": [
    "#Merging the rows of Train work employee wise\n",
    "train_work_sum = train_work.groupby('EmployeeID').sum().reset_index()\n",
    "train_work_sum.shape\n",
    "train_work_sum.head()"
   ]
  },
  {
   "cell_type": "code",
   "execution_count": 15,
   "metadata": {},
   "outputs": [
    {
     "data": {
      "text/plain": [
       "(245, 11)"
      ]
     },
     "execution_count": 15,
     "metadata": {},
     "output_type": "execute_result"
    }
   ],
   "source": [
    "# merging employee data and train work\n",
    "merged_train_data = pd.merge(train_work_sum,employee_data, on='EmployeeID', how='left')\n",
    "merged_train_data.shape"
   ]
  },
  {
   "cell_type": "code",
   "execution_count": 16,
   "metadata": {},
   "outputs": [
    {
     "data": {
      "text/html": [
       "<div>\n",
       "<style scoped>\n",
       "    .dataframe tbody tr th:only-of-type {\n",
       "        vertical-align: middle;\n",
       "    }\n",
       "\n",
       "    .dataframe tbody tr th {\n",
       "        vertical-align: top;\n",
       "    }\n",
       "\n",
       "    .dataframe thead th {\n",
       "        text-align: right;\n",
       "    }\n",
       "</style>\n",
       "<table border=\"1\" class=\"dataframe\">\n",
       "  <thead>\n",
       "    <tr style=\"text-align: right;\">\n",
       "      <th></th>\n",
       "      <th>EmployeeID</th>\n",
       "      <th>TotalWorkingHours</th>\n",
       "      <th>Billable_Hours</th>\n",
       "      <th>Hours_off_Duty</th>\n",
       "      <th>Touring_Hours</th>\n",
       "      <th>NoOfProjects</th>\n",
       "      <th>ActualTimeSpent</th>\n",
       "      <th>Job_History</th>\n",
       "      <th>Joining_Date</th>\n",
       "      <th>Designation</th>\n",
       "      <th>Sex</th>\n",
       "      <th>Left_Company</th>\n",
       "    </tr>\n",
       "  </thead>\n",
       "  <tbody>\n",
       "    <tr>\n",
       "      <th>0</th>\n",
       "      <td>emp-1</td>\n",
       "      <td>3424.0</td>\n",
       "      <td>2462.0</td>\n",
       "      <td>408.0</td>\n",
       "      <td>2462.0</td>\n",
       "      <td>42</td>\n",
       "      <td>2849</td>\n",
       "      <td>Worked at Company - 639 , Company - 212 , Comp...</td>\n",
       "      <td>2011_01</td>\n",
       "      <td>MD</td>\n",
       "      <td>1</td>\n",
       "      <td>0.0</td>\n",
       "    </tr>\n",
       "    <tr>\n",
       "      <th>1</th>\n",
       "      <td>emp-10</td>\n",
       "      <td>2006.0</td>\n",
       "      <td>1274.0</td>\n",
       "      <td>328.0</td>\n",
       "      <td>691.0</td>\n",
       "      <td>13</td>\n",
       "      <td>616</td>\n",
       "      <td>Worked at Company - 816 , Company - 724 , Comp...</td>\n",
       "      <td>2006_02</td>\n",
       "      <td>VP</td>\n",
       "      <td>0</td>\n",
       "      <td>1.0</td>\n",
       "    </tr>\n",
       "    <tr>\n",
       "      <th>2</th>\n",
       "      <td>emp-100</td>\n",
       "      <td>3607.0</td>\n",
       "      <td>3275.0</td>\n",
       "      <td>224.0</td>\n",
       "      <td>3235.0</td>\n",
       "      <td>23</td>\n",
       "      <td>3388</td>\n",
       "      <td>Worked at Company - 562 , Company - 319</td>\n",
       "      <td>2011_12</td>\n",
       "      <td>Senior</td>\n",
       "      <td>1</td>\n",
       "      <td>0.0</td>\n",
       "    </tr>\n",
       "    <tr>\n",
       "      <th>3</th>\n",
       "      <td>emp-101</td>\n",
       "      <td>4109.5</td>\n",
       "      <td>2759.5</td>\n",
       "      <td>192.0</td>\n",
       "      <td>0.0</td>\n",
       "      <td>18</td>\n",
       "      <td>1953</td>\n",
       "      <td>Worked at Company - 212 , Company - 668 , Comp...</td>\n",
       "      <td>2012_01</td>\n",
       "      <td>Senior</td>\n",
       "      <td>1</td>\n",
       "      <td>0.0</td>\n",
       "    </tr>\n",
       "    <tr>\n",
       "      <th>4</th>\n",
       "      <td>emp-102</td>\n",
       "      <td>3790.0</td>\n",
       "      <td>2720.5</td>\n",
       "      <td>344.0</td>\n",
       "      <td>1861.0</td>\n",
       "      <td>20</td>\n",
       "      <td>2254</td>\n",
       "      <td>Worked at Company - 234</td>\n",
       "      <td>2011_12</td>\n",
       "      <td>Senior</td>\n",
       "      <td>1</td>\n",
       "      <td>0.0</td>\n",
       "    </tr>\n",
       "  </tbody>\n",
       "</table>\n",
       "</div>"
      ],
      "text/plain": [
       "  EmployeeID  TotalWorkingHours  Billable_Hours  Hours_off_Duty  \\\n",
       "0      emp-1             3424.0          2462.0           408.0   \n",
       "1     emp-10             2006.0          1274.0           328.0   \n",
       "2    emp-100             3607.0          3275.0           224.0   \n",
       "3    emp-101             4109.5          2759.5           192.0   \n",
       "4    emp-102             3790.0          2720.5           344.0   \n",
       "\n",
       "   Touring_Hours  NoOfProjects  ActualTimeSpent  \\\n",
       "0         2462.0            42             2849   \n",
       "1          691.0            13              616   \n",
       "2         3235.0            23             3388   \n",
       "3            0.0            18             1953   \n",
       "4         1861.0            20             2254   \n",
       "\n",
       "                                         Job_History Joining_Date Designation  \\\n",
       "0  Worked at Company - 639 , Company - 212 , Comp...      2011_01          MD   \n",
       "1  Worked at Company - 816 , Company - 724 , Comp...      2006_02          VP   \n",
       "2            Worked at Company - 562 , Company - 319      2011_12      Senior   \n",
       "3  Worked at Company - 212 , Company - 668 , Comp...      2012_01      Senior   \n",
       "4                            Worked at Company - 234      2011_12      Senior   \n",
       "\n",
       "   Sex  Left_Company  \n",
       "0    1           0.0  \n",
       "1    0           1.0  \n",
       "2    1           0.0  \n",
       "3    1           0.0  \n",
       "4    1           0.0  "
      ]
     },
     "execution_count": 16,
     "metadata": {},
     "output_type": "execute_result"
    }
   ],
   "source": [
    "# merging with train attrition\n",
    "final_train_data = pd.merge(merged_train_data, train_attrition, on='EmployeeID', how='left')\n",
    "final_train_data.shape\n",
    "final_train_data.head()"
   ]
  },
  {
   "cell_type": "code",
   "execution_count": 17,
   "metadata": {},
   "outputs": [
    {
     "data": {
      "text/plain": [
       "(51, 7)"
      ]
     },
     "execution_count": 17,
     "metadata": {},
     "output_type": "execute_result"
    }
   ],
   "source": [
    "# merging test work employee wise\n",
    "test_work_sum = test_work.groupby('EmployeeID').sum().reset_index()\n",
    "test_work_sum.shape\n",
    "#test_work_sum.head()"
   ]
  },
  {
   "cell_type": "code",
   "execution_count": 18,
   "metadata": {},
   "outputs": [
    {
     "data": {
      "text/html": [
       "<div>\n",
       "<style scoped>\n",
       "    .dataframe tbody tr th:only-of-type {\n",
       "        vertical-align: middle;\n",
       "    }\n",
       "\n",
       "    .dataframe tbody tr th {\n",
       "        vertical-align: top;\n",
       "    }\n",
       "\n",
       "    .dataframe thead th {\n",
       "        text-align: right;\n",
       "    }\n",
       "</style>\n",
       "<table border=\"1\" class=\"dataframe\">\n",
       "  <thead>\n",
       "    <tr style=\"text-align: right;\">\n",
       "      <th></th>\n",
       "      <th>EmployeeID</th>\n",
       "      <th>TotalWorkingHours</th>\n",
       "      <th>Billable_Hours</th>\n",
       "      <th>Hours_off_Duty</th>\n",
       "      <th>Touring_Hours</th>\n",
       "      <th>NoOfProjects</th>\n",
       "      <th>ActualTimeSpent</th>\n",
       "      <th>Job_History</th>\n",
       "      <th>Joining_Date</th>\n",
       "      <th>Designation</th>\n",
       "      <th>Sex</th>\n",
       "    </tr>\n",
       "  </thead>\n",
       "  <tbody>\n",
       "    <tr>\n",
       "      <th>0</th>\n",
       "      <td>emp-106</td>\n",
       "      <td>3309.5</td>\n",
       "      <td>2352.0</td>\n",
       "      <td>298.0</td>\n",
       "      <td>2.0</td>\n",
       "      <td>18</td>\n",
       "      <td>1736</td>\n",
       "      <td>Worked at Company - 510 , Company - 658 , Comp...</td>\n",
       "      <td>2012_01</td>\n",
       "      <td>Senior</td>\n",
       "      <td>0</td>\n",
       "    </tr>\n",
       "    <tr>\n",
       "      <th>1</th>\n",
       "      <td>emp-112</td>\n",
       "      <td>3178.5</td>\n",
       "      <td>2610.0</td>\n",
       "      <td>292.0</td>\n",
       "      <td>325.0</td>\n",
       "      <td>21</td>\n",
       "      <td>1708</td>\n",
       "      <td>Worked at Company - 42 , Company - 432 , Compa...</td>\n",
       "      <td>2012_02</td>\n",
       "      <td>VP</td>\n",
       "      <td>1</td>\n",
       "    </tr>\n",
       "    <tr>\n",
       "      <th>2</th>\n",
       "      <td>emp-114</td>\n",
       "      <td>3072.5</td>\n",
       "      <td>1618.7</td>\n",
       "      <td>264.0</td>\n",
       "      <td>1104.0</td>\n",
       "      <td>25</td>\n",
       "      <td>882</td>\n",
       "      <td>Worked at Company - 99 , Company - 88 , Compan...</td>\n",
       "      <td>2012_02</td>\n",
       "      <td>EVP</td>\n",
       "      <td>1</td>\n",
       "    </tr>\n",
       "    <tr>\n",
       "      <th>3</th>\n",
       "      <td>emp-118</td>\n",
       "      <td>2400.0</td>\n",
       "      <td>2008.0</td>\n",
       "      <td>146.0</td>\n",
       "      <td>728.0</td>\n",
       "      <td>18</td>\n",
       "      <td>1526</td>\n",
       "      <td>Worked at Company - 554 , Company - 304</td>\n",
       "      <td>2012_04</td>\n",
       "      <td>EVP</td>\n",
       "      <td>1</td>\n",
       "    </tr>\n",
       "    <tr>\n",
       "      <th>4</th>\n",
       "      <td>emp-12</td>\n",
       "      <td>4491.0</td>\n",
       "      <td>2653.0</td>\n",
       "      <td>601.0</td>\n",
       "      <td>799.0</td>\n",
       "      <td>31</td>\n",
       "      <td>1883</td>\n",
       "      <td>Worked at Company - 548 , Company - 405</td>\n",
       "      <td>2006_09</td>\n",
       "      <td>VP</td>\n",
       "      <td>1</td>\n",
       "    </tr>\n",
       "  </tbody>\n",
       "</table>\n",
       "</div>"
      ],
      "text/plain": [
       "  EmployeeID  TotalWorkingHours  Billable_Hours  Hours_off_Duty  \\\n",
       "0    emp-106             3309.5          2352.0           298.0   \n",
       "1    emp-112             3178.5          2610.0           292.0   \n",
       "2    emp-114             3072.5          1618.7           264.0   \n",
       "3    emp-118             2400.0          2008.0           146.0   \n",
       "4     emp-12             4491.0          2653.0           601.0   \n",
       "\n",
       "   Touring_Hours  NoOfProjects  ActualTimeSpent  \\\n",
       "0            2.0            18             1736   \n",
       "1          325.0            21             1708   \n",
       "2         1104.0            25              882   \n",
       "3          728.0            18             1526   \n",
       "4          799.0            31             1883   \n",
       "\n",
       "                                         Job_History Joining_Date Designation  \\\n",
       "0  Worked at Company - 510 , Company - 658 , Comp...      2012_01      Senior   \n",
       "1  Worked at Company - 42 , Company - 432 , Compa...      2012_02          VP   \n",
       "2  Worked at Company - 99 , Company - 88 , Compan...      2012_02         EVP   \n",
       "3            Worked at Company - 554 , Company - 304      2012_04         EVP   \n",
       "4            Worked at Company - 548 , Company - 405      2006_09          VP   \n",
       "\n",
       "   Sex  \n",
       "0    0  \n",
       "1    1  \n",
       "2    1  \n",
       "3    1  \n",
       "4    1  "
      ]
     },
     "execution_count": 18,
     "metadata": {},
     "output_type": "execute_result"
    }
   ],
   "source": [
    "# merging test work with employee sum\n",
    "final_test_data = pd.merge(test_work_sum,employee_data, on='EmployeeID', how='left')\n",
    "final_test_data.shape\n",
    "final_test_data.head()"
   ]
  },
  {
   "cell_type": "markdown",
   "metadata": {},
   "source": [
    "## Data pre-processing"
   ]
  },
  {
   "cell_type": "code",
   "execution_count": 19,
   "metadata": {},
   "outputs": [],
   "source": [
    "# drop unwanted columns\n",
    "final_train_data.drop(['EmployeeID'], axis=1, inplace=True)\n",
    "final_test_data.drop(['EmployeeID'], axis=1, inplace=True)"
   ]
  },
  {
   "cell_type": "code",
   "execution_count": 20,
   "metadata": {},
   "outputs": [
    {
     "data": {
      "text/plain": [
       "TotalWorkingHours    0\n",
       "Billable_Hours       0\n",
       "Hours_off_Duty       0\n",
       "Touring_Hours        0\n",
       "NoOfProjects         0\n",
       "ActualTimeSpent      0\n",
       "Job_History          0\n",
       "Joining_Date         0\n",
       "Designation          0\n",
       "Sex                  0\n",
       "Left_Company         0\n",
       "dtype: int64"
      ]
     },
     "execution_count": 20,
     "metadata": {},
     "output_type": "execute_result"
    }
   ],
   "source": [
    "#check for null values\n",
    "final_train_data.isnull().sum()"
   ]
  },
  {
   "cell_type": "code",
   "execution_count": 11,
   "metadata": {},
   "outputs": [
    {
     "data": {
      "text/plain": [
       "TotalWorkingHours    float64\n",
       "Billable_Hours       float64\n",
       "Hours_off_Duty       float64\n",
       "Touring_Hours        float64\n",
       "NoOfProjects           int64\n",
       "ActualTimeSpent        int64\n",
       "Job_History           object\n",
       "Joining_Date          object\n",
       "Designation           object\n",
       "Sex                    int64\n",
       "dtype: object"
      ]
     },
     "execution_count": 11,
     "metadata": {},
     "output_type": "execute_result"
    }
   ],
   "source": [
    "final_test_data.dtypes"
   ]
  },
  {
   "cell_type": "code",
   "execution_count": 11,
   "metadata": {},
   "outputs": [],
   "source": [
    "# Calculate the count of number of companies worked previously\n",
    "\n",
    "final_train_data['Job_History_Count'] = final_train_data['Job_History']\n",
    "final_test_data['Job_History_Count'] = final_test_data['Job_History']\n",
    "\n",
    "for index, row in final_train_data.iterrows():\n",
    "    final_train_data['Job_History_Count'][index] = len(str(final_train_data['Job_History'][index]).split(','))\n",
    "\n",
    "for index, row in final_test_data.iterrows():\n",
    "    final_test_data['Job_History_Count'][index] = len(str(final_test_data['Job_History'][index]).split(','))\n",
    "    \n",
    "final_train_data.drop('Job_History', axis=1, inplace=True)\n",
    "final_test_data.drop('Job_History', axis=1, inplace=True)"
   ]
  },
  {
   "cell_type": "code",
   "execution_count": 12,
   "metadata": {},
   "outputs": [],
   "source": [
    "# Dropping Joining_Date, as the variable is of no much use. As we donot know the the resignation date,\n",
    "# we cant really know the employee experience just from Joining Date\n",
    "\n",
    "final_train_data.drop(['Joining_Date'], axis=1, inplace=True)\n",
    "final_test_data.drop(['Joining_Date'], axis=1, inplace=True)"
   ]
  },
  {
   "cell_type": "code",
   "execution_count": 13,
   "metadata": {},
   "outputs": [
    {
     "data": {
      "text/plain": [
       "TotalWorkingHours    float64\n",
       "Billable_Hours       float64\n",
       "Hours_off_Duty       float64\n",
       "Touring_Hours        float64\n",
       "NoOfProjects           int64\n",
       "ActualTimeSpent        int64\n",
       "Designation           object\n",
       "Sex                    int64\n",
       "Left_Company         float64\n",
       "Job_History_Count     object\n",
       "dtype: object"
      ]
     },
     "execution_count": 13,
     "metadata": {},
     "output_type": "execute_result"
    }
   ],
   "source": [
    "final_train_data.dtypes"
   ]
  },
  {
   "cell_type": "markdown",
   "metadata": {},
   "source": [
    "## Exploratory data analysis"
   ]
  },
  {
   "cell_type": "code",
   "execution_count": 14,
   "metadata": {},
   "outputs": [
    {
     "data": {
      "text/plain": [
       "TotalWorkingHours    float64\n",
       "Billable_Hours       float64\n",
       "Hours_off_Duty       float64\n",
       "Touring_Hours        float64\n",
       "NoOfProjects           int64\n",
       "ActualTimeSpent        int64\n",
       "Designation           object\n",
       "Sex                    int64\n",
       "Left_Company         float64\n",
       "Job_History_Count     object\n",
       "dtype: object"
      ]
     },
     "execution_count": 14,
     "metadata": {},
     "output_type": "execute_result"
    }
   ],
   "source": [
    "final_train_data.dtypes"
   ]
  },
  {
   "cell_type": "code",
   "execution_count": 15,
   "metadata": {},
   "outputs": [
    {
     "data": {
      "text/plain": [
       "TotalWorkingHours    float64\n",
       "Billable_Hours       float64\n",
       "Hours_off_Duty       float64\n",
       "Touring_Hours        float64\n",
       "NoOfProjects           int64\n",
       "ActualTimeSpent        int64\n",
       "Designation           object\n",
       "Sex                    int64\n",
       "Job_History_Count     object\n",
       "dtype: object"
      ]
     },
     "execution_count": 15,
     "metadata": {},
     "output_type": "execute_result"
    }
   ],
   "source": [
    "final_test_data.dtypes"
   ]
  },
  {
   "cell_type": "code",
   "execution_count": 16,
   "metadata": {},
   "outputs": [
    {
     "name": "stdout",
     "output_type": "stream",
     "text": [
      "['TotalWorkingHours', 'Billable_Hours', 'Hours_off_Duty', 'Touring_Hours', 'NoOfProjects', 'ActualTimeSpent', 'Job_History_Count']\n"
     ]
    }
   ],
   "source": [
    "# Identify categorical and numerical columns\n",
    "\n",
    "final_train_data['Sex'] = final_train_data['Sex'].astype('category')\n",
    "final_train_data['Job_History_Count'] = final_train_data['Job_History_Count'].astype('int64')\n",
    "\n",
    "num_columns = list(final_train_data.select_dtypes(['int64','float64']).columns)\n",
    "\n",
    "cat_columns = list(final_train_data.columns.difference(num_columns))\n",
    "\n",
    "# Not including Left_Company as numerical column\n",
    "num_columns.remove('Left_Company')\n",
    "\n",
    "for col in cat_columns:\n",
    "    final_train_data[col] = final_train_data[col].astype('category')\n",
    "    \n",
    "for col in cat_columns:\n",
    "    final_test_data[col] = final_test_data[col].astype('category')\n",
    "    \n",
    "cat_columns = list(final_train_data.select_dtypes(['category']).columns)\n",
    "\n",
    "\n",
    "print(num_columns)\n",
    "#print(cat_columns)"
   ]
  },
  {
   "cell_type": "code",
   "execution_count": 17,
   "metadata": {},
   "outputs": [
    {
     "data": {
      "text/plain": [
       "TotalWorkingHours     float64\n",
       "Billable_Hours        float64\n",
       "Hours_off_Duty        float64\n",
       "Touring_Hours         float64\n",
       "NoOfProjects            int64\n",
       "ActualTimeSpent         int64\n",
       "Designation          category\n",
       "Sex                  category\n",
       "Left_Company          float64\n",
       "Job_History_Count       int64\n",
       "dtype: object"
      ]
     },
     "execution_count": 17,
     "metadata": {},
     "output_type": "execute_result"
    }
   ],
   "source": [
    "final_train_data.dtypes"
   ]
  },
  {
   "cell_type": "markdown",
   "metadata": {},
   "source": [
    "## Uni-variate analysis of numerical columns"
   ]
  },
  {
   "cell_type": "code",
   "execution_count": 18,
   "metadata": {},
   "outputs": [
    {
     "data": {
      "text/html": [
       "<div>\n",
       "<style scoped>\n",
       "    .dataframe tbody tr th:only-of-type {\n",
       "        vertical-align: middle;\n",
       "    }\n",
       "\n",
       "    .dataframe tbody tr th {\n",
       "        vertical-align: top;\n",
       "    }\n",
       "\n",
       "    .dataframe thead th {\n",
       "        text-align: right;\n",
       "    }\n",
       "</style>\n",
       "<table border=\"1\" class=\"dataframe\">\n",
       "  <thead>\n",
       "    <tr style=\"text-align: right;\">\n",
       "      <th></th>\n",
       "      <th>TotalWorkingHours</th>\n",
       "      <th>Billable_Hours</th>\n",
       "      <th>Hours_off_Duty</th>\n",
       "      <th>Touring_Hours</th>\n",
       "      <th>NoOfProjects</th>\n",
       "      <th>ActualTimeSpent</th>\n",
       "      <th>Left_Company</th>\n",
       "      <th>Job_History_Count</th>\n",
       "    </tr>\n",
       "  </thead>\n",
       "  <tbody>\n",
       "    <tr>\n",
       "      <th>count</th>\n",
       "      <td>245.000000</td>\n",
       "      <td>245.000000</td>\n",
       "      <td>245.000000</td>\n",
       "      <td>245.000000</td>\n",
       "      <td>245.000000</td>\n",
       "      <td>245.000000</td>\n",
       "      <td>245.000000</td>\n",
       "      <td>245.000000</td>\n",
       "    </tr>\n",
       "    <tr>\n",
       "      <th>mean</th>\n",
       "      <td>3061.481224</td>\n",
       "      <td>2097.439592</td>\n",
       "      <td>261.702041</td>\n",
       "      <td>1063.230612</td>\n",
       "      <td>20.510204</td>\n",
       "      <td>1534.514286</td>\n",
       "      <td>0.110204</td>\n",
       "      <td>2.771429</td>\n",
       "    </tr>\n",
       "    <tr>\n",
       "      <th>std</th>\n",
       "      <td>1377.138318</td>\n",
       "      <td>1149.058255</td>\n",
       "      <td>146.644543</td>\n",
       "      <td>1077.686591</td>\n",
       "      <td>12.461288</td>\n",
       "      <td>1078.828104</td>\n",
       "      <td>0.313785</td>\n",
       "      <td>1.433213</td>\n",
       "    </tr>\n",
       "    <tr>\n",
       "      <th>min</th>\n",
       "      <td>90.000000</td>\n",
       "      <td>-2.000000</td>\n",
       "      <td>0.000000</td>\n",
       "      <td>0.000000</td>\n",
       "      <td>0.000000</td>\n",
       "      <td>0.000000</td>\n",
       "      <td>0.000000</td>\n",
       "      <td>1.000000</td>\n",
       "    </tr>\n",
       "    <tr>\n",
       "      <th>25%</th>\n",
       "      <td>1986.299999</td>\n",
       "      <td>1090.000000</td>\n",
       "      <td>145.500000</td>\n",
       "      <td>80.500000</td>\n",
       "      <td>11.000000</td>\n",
       "      <td>686.000000</td>\n",
       "      <td>0.000000</td>\n",
       "      <td>2.000000</td>\n",
       "    </tr>\n",
       "    <tr>\n",
       "      <th>50%</th>\n",
       "      <td>3180.000000</td>\n",
       "      <td>2145.500000</td>\n",
       "      <td>256.000000</td>\n",
       "      <td>720.000000</td>\n",
       "      <td>20.000000</td>\n",
       "      <td>1400.000000</td>\n",
       "      <td>0.000000</td>\n",
       "      <td>3.000000</td>\n",
       "    </tr>\n",
       "    <tr>\n",
       "      <th>75%</th>\n",
       "      <td>4228.000000</td>\n",
       "      <td>3158.000000</td>\n",
       "      <td>388.000000</td>\n",
       "      <td>1695.500000</td>\n",
       "      <td>28.000000</td>\n",
       "      <td>2324.000000</td>\n",
       "      <td>0.000000</td>\n",
       "      <td>4.000000</td>\n",
       "    </tr>\n",
       "    <tr>\n",
       "      <th>max</th>\n",
       "      <td>5406.900000</td>\n",
       "      <td>4279.500000</td>\n",
       "      <td>616.500000</td>\n",
       "      <td>3857.000000</td>\n",
       "      <td>78.000000</td>\n",
       "      <td>4113.000000</td>\n",
       "      <td>1.000000</td>\n",
       "      <td>7.000000</td>\n",
       "    </tr>\n",
       "  </tbody>\n",
       "</table>\n",
       "</div>"
      ],
      "text/plain": [
       "       TotalWorkingHours  Billable_Hours  Hours_off_Duty  Touring_Hours  \\\n",
       "count         245.000000      245.000000      245.000000     245.000000   \n",
       "mean         3061.481224     2097.439592      261.702041    1063.230612   \n",
       "std          1377.138318     1149.058255      146.644543    1077.686591   \n",
       "min            90.000000       -2.000000        0.000000       0.000000   \n",
       "25%          1986.299999     1090.000000      145.500000      80.500000   \n",
       "50%          3180.000000     2145.500000      256.000000     720.000000   \n",
       "75%          4228.000000     3158.000000      388.000000    1695.500000   \n",
       "max          5406.900000     4279.500000      616.500000    3857.000000   \n",
       "\n",
       "       NoOfProjects  ActualTimeSpent  Left_Company  Job_History_Count  \n",
       "count    245.000000       245.000000    245.000000         245.000000  \n",
       "mean      20.510204      1534.514286      0.110204           2.771429  \n",
       "std       12.461288      1078.828104      0.313785           1.433213  \n",
       "min        0.000000         0.000000      0.000000           1.000000  \n",
       "25%       11.000000       686.000000      0.000000           2.000000  \n",
       "50%       20.000000      1400.000000      0.000000           3.000000  \n",
       "75%       28.000000      2324.000000      0.000000           4.000000  \n",
       "max       78.000000      4113.000000      1.000000           7.000000  "
      ]
     },
     "execution_count": 18,
     "metadata": {},
     "output_type": "execute_result"
    }
   ],
   "source": [
    "final_train_data.describe()"
   ]
  },
  {
   "cell_type": "code",
   "execution_count": 19,
   "metadata": {},
   "outputs": [
    {
     "name": "stdout",
     "output_type": "stream",
     "text": [
      "Column =  TotalWorkingHours \n",
      "\n",
      "3764.500000    2\n",
      "4129.000000    2\n",
      "2365.000000    2\n",
      "3906.000000    2\n",
      "4841.000000    2\n",
      "              ..\n",
      "2106.000000    1\n",
      "4458.500000    1\n",
      "4535.500000    1\n",
      "2715.599998    1\n",
      "3424.000000    1\n",
      "Name: TotalWorkingHours, Length: 240, dtype: int64\n",
      "\n",
      "--------------------------------- \n",
      "\n",
      "Column =  Billable_Hours \n",
      "\n",
      "0.0       4\n",
      "1951.0    3\n",
      "3606.0    2\n",
      "1139.0    2\n",
      "782.5     2\n",
      "         ..\n",
      "3559.0    1\n",
      "3165.0    1\n",
      "1437.5    1\n",
      "3290.5    1\n",
      "2462.0    1\n",
      "Name: Billable_Hours, Length: 228, dtype: int64\n",
      "\n",
      "--------------------------------- \n",
      "\n",
      "Column =  Hours_off_Duty \n",
      "\n",
      "224.0    8\n",
      "40.0     8\n",
      "112.0    6\n",
      "32.0     6\n",
      "408.0    5\n",
      "        ..\n",
      "83.0     1\n",
      "389.0    1\n",
      "170.0    1\n",
      "169.0    1\n",
      "359.5    1\n",
      "Name: Hours_off_Duty, Length: 118, dtype: int64\n",
      "\n",
      "--------------------------------- \n",
      "\n",
      "Column =  Touring_Hours \n",
      "\n",
      "0.0       47\n",
      "552.0      3\n",
      "554.0      2\n",
      "14.5       2\n",
      "513.0      2\n",
      "          ..\n",
      "2261.0     1\n",
      "1182.0     1\n",
      "1443.0     1\n",
      "2304.5     1\n",
      "2462.0     1\n",
      "Name: Touring_Hours, Length: 194, dtype: int64\n",
      "\n",
      "--------------------------------- \n",
      "\n",
      "Column =  NoOfProjects \n",
      "\n",
      "26    14\n",
      "24    13\n",
      "18    11\n",
      "5     11\n",
      "11    11\n",
      "13    10\n",
      "7      9\n",
      "20     9\n",
      "15     9\n",
      "28     9\n",
      "29     8\n",
      "10     8\n",
      "25     8\n",
      "31     7\n",
      "30     7\n",
      "19     6\n",
      "14     6\n",
      "27     6\n",
      "6      6\n",
      "16     6\n",
      "12     5\n",
      "0      5\n",
      "33     4\n",
      "2      4\n",
      "48     4\n",
      "9      4\n",
      "21     4\n",
      "40     4\n",
      "4      3\n",
      "8      3\n",
      "23     3\n",
      "22     3\n",
      "42     3\n",
      "3      2\n",
      "34     2\n",
      "35     2\n",
      "37     2\n",
      "38     2\n",
      "43     2\n",
      "46     2\n",
      "17     1\n",
      "1      1\n",
      "61     1\n",
      "39     1\n",
      "53     1\n",
      "32     1\n",
      "62     1\n",
      "78     1\n",
      "Name: NoOfProjects, dtype: int64\n",
      "\n",
      "--------------------------------- \n",
      "\n",
      "Column =  ActualTimeSpent \n",
      "\n",
      "0       5\n",
      "42      3\n",
      "98      3\n",
      "728     2\n",
      "420     2\n",
      "       ..\n",
      "798     1\n",
      "1821    1\n",
      "1820    1\n",
      "2330    1\n",
      "1122    1\n",
      "Name: ActualTimeSpent, Length: 210, dtype: int64\n",
      "\n",
      "--------------------------------- \n",
      "\n",
      "Column =  Left_Company \n",
      "\n",
      "0.0    218\n",
      "1.0     27\n",
      "Name: Left_Company, dtype: int64\n",
      "\n",
      "--------------------------------- \n",
      "\n",
      "Column =  Job_History_Count \n",
      "\n",
      "4    62\n",
      "1    60\n",
      "2    52\n",
      "3    51\n",
      "5    11\n",
      "7     5\n",
      "6     4\n",
      "Name: Job_History_Count, dtype: int64\n",
      "\n",
      "--------------------------------- \n",
      "\n"
     ]
    }
   ],
   "source": [
    "for col in final_train_data.columns:\n",
    "    if final_train_data[col].dtype == 'int64' or final_train_data[col].dtype == 'float64':\n",
    "        print(\"Column = \", col, \"\\n\")\n",
    "        print(final_train_data[col].value_counts())\n",
    "        print(\"\\n--------------------------------- \\n\")"
   ]
  },
  {
   "cell_type": "code",
   "execution_count": 20,
   "metadata": {},
   "outputs": [],
   "source": [
    "import seaborn as sns\n",
    "import matplotlib.pyplot as plt"
   ]
  },
  {
   "cell_type": "code",
   "execution_count": 21,
   "metadata": {},
   "outputs": [
    {
     "data": {
      "image/png": "[encoded data removed]",
      "text/plain": [
       "<Figure size 1440x1080 with 6 Axes>"
      ]
     },
     "metadata": {
      "needs_background": "light"
     },
     "output_type": "display_data"
    }
   ],
   "source": [
    "# Using boxplot to identify outliers\n",
    "\n",
    "fig, axs = plt.subplots(3, 2, figsize=(20,15))\n",
    "\n",
    "for col,ax in zip(num_columns, axs.flat):\n",
    "    sns.boxplot(y=col, data=final_train_data, ax=ax)\n",
    "    \n",
    "plt.show()"
   ]
  },
  {
   "cell_type": "markdown",
   "metadata": {},
   "source": [
    "## Univariate analysis of categorical columns"
   ]
  },
  {
   "cell_type": "code",
   "execution_count": 22,
   "metadata": {},
   "outputs": [
    {
     "data": {
      "text/html": [
       "<div>\n",
       "<style scoped>\n",
       "    .dataframe tbody tr th:only-of-type {\n",
       "        vertical-align: middle;\n",
       "    }\n",
       "\n",
       "    .dataframe tbody tr th {\n",
       "        vertical-align: top;\n",
       "    }\n",
       "\n",
       "    .dataframe thead th {\n",
       "        text-align: right;\n",
       "    }\n",
       "</style>\n",
       "<table border=\"1\" class=\"dataframe\">\n",
       "  <thead>\n",
       "    <tr style=\"text-align: right;\">\n",
       "      <th></th>\n",
       "      <th>Designation</th>\n",
       "      <th>Sex</th>\n",
       "    </tr>\n",
       "  </thead>\n",
       "  <tbody>\n",
       "    <tr>\n",
       "      <th>count</th>\n",
       "      <td>245</td>\n",
       "      <td>245</td>\n",
       "    </tr>\n",
       "    <tr>\n",
       "      <th>unique</th>\n",
       "      <td>5</td>\n",
       "      <td>2</td>\n",
       "    </tr>\n",
       "    <tr>\n",
       "      <th>top</th>\n",
       "      <td>Junior</td>\n",
       "      <td>1</td>\n",
       "    </tr>\n",
       "    <tr>\n",
       "      <th>freq</th>\n",
       "      <td>79</td>\n",
       "      <td>216</td>\n",
       "    </tr>\n",
       "  </tbody>\n",
       "</table>\n",
       "</div>"
      ],
      "text/plain": [
       "       Designation  Sex\n",
       "count          245  245\n",
       "unique           5    2\n",
       "top         Junior    1\n",
       "freq            79  216"
      ]
     },
     "execution_count": 22,
     "metadata": {},
     "output_type": "execute_result"
    }
   ],
   "source": [
    "final_train_data.describe(include='category')"
   ]
  },
  {
   "cell_type": "code",
   "execution_count": 23,
   "metadata": {},
   "outputs": [
    {
     "data": {
      "text/plain": [
       "TotalWorkingHours     float64\n",
       "Billable_Hours        float64\n",
       "Hours_off_Duty        float64\n",
       "Touring_Hours         float64\n",
       "NoOfProjects            int64\n",
       "ActualTimeSpent         int64\n",
       "Designation          category\n",
       "Sex                  category\n",
       "Left_Company          float64\n",
       "Job_History_Count       int64\n",
       "dtype: object"
      ]
     },
     "execution_count": 23,
     "metadata": {},
     "output_type": "execute_result"
    }
   ],
   "source": [
    "final_train_data.dtypes"
   ]
  },
  {
   "cell_type": "code",
   "execution_count": 24,
   "metadata": {},
   "outputs": [
    {
     "name": "stdout",
     "output_type": "stream",
     "text": [
      "Column =  Designation \n",
      "\n",
      "Junior    79\n",
      "VP        63\n",
      "Senior    63\n",
      "EVP       28\n",
      "MD        12\n",
      "Name: Designation, dtype: int64\n",
      "\n",
      "--------------------------------- \n",
      "\n",
      "Column =  Sex \n",
      "\n",
      "1    216\n",
      "0     29\n",
      "Name: Sex, dtype: int64\n",
      "\n",
      "--------------------------------- \n",
      "\n"
     ]
    }
   ],
   "source": [
    "for col in final_train_data.columns:\n",
    "    if final_train_data[col].dtype.name == 'category':\n",
    "        print(\"Column = \", col, \"\\n\")\n",
    "        print(final_train_data[col].value_counts())\n",
    "        print(\"\\n--------------------------------- \\n\")"
   ]
  },
  {
   "cell_type": "code",
   "execution_count": 25,
   "metadata": {},
   "outputs": [
    {
     "data": {
      "image/png": "[encoded data removed]",
      "text/plain": [
       "<Figure size 1440x1440 with 4 Axes>"
      ]
     },
     "metadata": {
      "needs_background": "light"
     },
     "output_type": "display_data"
    }
   ],
   "source": [
    "#Using countplot to view distribution of categorical feature levels\n",
    "fig, axs = plt.subplots(2, 2, figsize=(20,20))\n",
    "\n",
    "for col,ax in zip(cat_columns, axs.flat):\n",
    "    sns.countplot(y=col, data=final_train_data[cat_columns], ax=ax)\n",
    "    \n",
    "plt.show()"
   ]
  },
  {
   "cell_type": "markdown",
   "metadata": {},
   "source": [
    "## Data transformation"
   ]
  },
  {
   "cell_type": "code",
   "execution_count": 26,
   "metadata": {},
   "outputs": [
    {
     "data": {
      "text/plain": [
       "StandardScaler(copy=True, with_mean=True, with_std=True)"
      ]
     },
     "execution_count": 26,
     "metadata": {},
     "output_type": "execute_result"
    }
   ],
   "source": [
    "# Standardization of numerical attributes\n",
    "#Import\n",
    "from sklearn.preprocessing import StandardScaler\n",
    "scaler = StandardScaler()\n",
    "scaler.fit(final_train_data[num_columns])"
   ]
  },
  {
   "cell_type": "code",
   "execution_count": 27,
   "metadata": {},
   "outputs": [],
   "source": [
    "#Scale on train data\n",
    "final_train_data[num_columns] = scaler.transform(final_train_data[num_columns])\n"
   ]
  },
  {
   "cell_type": "code",
   "execution_count": 28,
   "metadata": {},
   "outputs": [],
   "source": [
    "#Scale on test data\n",
    "final_test_data[num_columns] = scaler.transform(final_test_data[num_columns])"
   ]
  },
  {
   "cell_type": "code",
   "execution_count": 29,
   "metadata": {},
   "outputs": [],
   "source": [
    "# Dummification of categorical attributes\n",
    "final_train_data = pd.get_dummies(final_train_data, columns=cat_columns, drop_first=True)\n",
    "\n",
    "# Test\n",
    "final_test_data = pd.get_dummies(final_test_data, columns=cat_columns, drop_first=True)"
   ]
  },
  {
   "cell_type": "code",
   "execution_count": 30,
   "metadata": {},
   "outputs": [
    {
     "data": {
      "text/html": [
       "<div>\n",
       "<style scoped>\n",
       "    .dataframe tbody tr th:only-of-type {\n",
       "        vertical-align: middle;\n",
       "    }\n",
       "\n",
       "    .dataframe tbody tr th {\n",
       "        vertical-align: top;\n",
       "    }\n",
       "\n",
       "    .dataframe thead th {\n",
       "        text-align: right;\n",
       "    }\n",
       "</style>\n",
       "<table border=\"1\" class=\"dataframe\">\n",
       "  <thead>\n",
       "    <tr style=\"text-align: right;\">\n",
       "      <th></th>\n",
       "      <th>TotalWorkingHours</th>\n",
       "      <th>Billable_Hours</th>\n",
       "      <th>Hours_off_Duty</th>\n",
       "      <th>Touring_Hours</th>\n",
       "      <th>NoOfProjects</th>\n",
       "      <th>ActualTimeSpent</th>\n",
       "      <th>Left_Company</th>\n",
       "      <th>Job_History_Count</th>\n",
       "      <th>Designation_Junior</th>\n",
       "      <th>Designation_MD</th>\n",
       "      <th>Designation_Senior</th>\n",
       "      <th>Designation_VP</th>\n",
       "      <th>Sex_1</th>\n",
       "    </tr>\n",
       "  </thead>\n",
       "  <tbody>\n",
       "    <tr>\n",
       "      <th>0</th>\n",
       "      <td>0.263780</td>\n",
       "      <td>0.317918</td>\n",
       "      <td>0.999679</td>\n",
       "      <td>1.300594</td>\n",
       "      <td>1.728055</td>\n",
       "      <td>1.220933</td>\n",
       "      <td>0.0</td>\n",
       "      <td>0.159808</td>\n",
       "      <td>0</td>\n",
       "      <td>1</td>\n",
       "      <td>0</td>\n",
       "      <td>0</td>\n",
       "      <td>1</td>\n",
       "    </tr>\n",
       "    <tr>\n",
       "      <th>1</th>\n",
       "      <td>-0.768000</td>\n",
       "      <td>-0.718088</td>\n",
       "      <td>0.453025</td>\n",
       "      <td>-0.346105</td>\n",
       "      <td>-0.603917</td>\n",
       "      <td>-0.853143</td>\n",
       "      <td>1.0</td>\n",
       "      <td>0.858970</td>\n",
       "      <td>0</td>\n",
       "      <td>0</td>\n",
       "      <td>0</td>\n",
       "      <td>1</td>\n",
       "      <td>0</td>\n",
       "    </tr>\n",
       "    <tr>\n",
       "      <th>2</th>\n",
       "      <td>0.396936</td>\n",
       "      <td>1.026903</td>\n",
       "      <td>-0.257624</td>\n",
       "      <td>2.019340</td>\n",
       "      <td>0.200211</td>\n",
       "      <td>1.721572</td>\n",
       "      <td>0.0</td>\n",
       "      <td>-0.539353</td>\n",
       "      <td>0</td>\n",
       "      <td>0</td>\n",
       "      <td>1</td>\n",
       "      <td>0</td>\n",
       "      <td>1</td>\n",
       "    </tr>\n",
       "    <tr>\n",
       "      <th>3</th>\n",
       "      <td>0.762570</td>\n",
       "      <td>0.577356</td>\n",
       "      <td>-0.476286</td>\n",
       "      <td>-0.988606</td>\n",
       "      <td>-0.201853</td>\n",
       "      <td>0.388702</td>\n",
       "      <td>0.0</td>\n",
       "      <td>0.159808</td>\n",
       "      <td>0</td>\n",
       "      <td>0</td>\n",
       "      <td>1</td>\n",
       "      <td>0</td>\n",
       "      <td>1</td>\n",
       "    </tr>\n",
       "    <tr>\n",
       "      <th>4</th>\n",
       "      <td>0.530092</td>\n",
       "      <td>0.543346</td>\n",
       "      <td>0.562356</td>\n",
       "      <td>0.741776</td>\n",
       "      <td>-0.041027</td>\n",
       "      <td>0.668279</td>\n",
       "      <td>0.0</td>\n",
       "      <td>-1.238515</td>\n",
       "      <td>0</td>\n",
       "      <td>0</td>\n",
       "      <td>1</td>\n",
       "      <td>0</td>\n",
       "      <td>1</td>\n",
       "    </tr>\n",
       "  </tbody>\n",
       "</table>\n",
       "</div>"
      ],
      "text/plain": [
       "   TotalWorkingHours  Billable_Hours  Hours_off_Duty  Touring_Hours  \\\n",
       "0           0.263780        0.317918        0.999679       1.300594   \n",
       "1          -0.768000       -0.718088        0.453025      -0.346105   \n",
       "2           0.396936        1.026903       -0.257624       2.019340   \n",
       "3           0.762570        0.577356       -0.476286      -0.988606   \n",
       "4           0.530092        0.543346        0.562356       0.741776   \n",
       "\n",
       "   NoOfProjects  ActualTimeSpent  Left_Company  Job_History_Count  \\\n",
       "0      1.728055         1.220933           0.0           0.159808   \n",
       "1     -0.603917        -0.853143           1.0           0.858970   \n",
       "2      0.200211         1.721572           0.0          -0.539353   \n",
       "3     -0.201853         0.388702           0.0           0.159808   \n",
       "4     -0.041027         0.668279           0.0          -1.238515   \n",
       "\n",
       "   Designation_Junior  Designation_MD  Designation_Senior  Designation_VP  \\\n",
       "0                   0               1                   0               0   \n",
       "1                   0               0                   0               1   \n",
       "2                   0               0                   1               0   \n",
       "3                   0               0                   1               0   \n",
       "4                   0               0                   1               0   \n",
       "\n",
       "   Sex_1  \n",
       "0      1  \n",
       "1      0  \n",
       "2      1  \n",
       "3      1  \n",
       "4      1  "
      ]
     },
     "execution_count": 30,
     "metadata": {},
     "output_type": "execute_result"
    }
   ],
   "source": [
    "final_train_data.head()\n",
    "#final_test_data.head()\n",
    "#final_train_data.shape"
   ]
  },
  {
   "cell_type": "markdown",
   "metadata": {},
   "source": [
    "## Define x and y"
   ]
  },
  {
   "cell_type": "code",
   "execution_count": 31,
   "metadata": {},
   "outputs": [],
   "source": [
    "X = final_train_data.loc[:, final_train_data.columns != 'Left_Company']\n",
    "y = final_train_data['Left_Company']"
   ]
  },
  {
   "cell_type": "code",
   "execution_count": 32,
   "metadata": {},
   "outputs": [
    {
     "data": {
      "text/plain": [
       "TotalWorkingHours     float64\n",
       "Billable_Hours        float64\n",
       "Hours_off_Duty        float64\n",
       "Touring_Hours         float64\n",
       "NoOfProjects          float64\n",
       "ActualTimeSpent       float64\n",
       "Job_History_Count     float64\n",
       "Designation_Junior      uint8\n",
       "Designation_MD          uint8\n",
       "Designation_Senior      uint8\n",
       "Designation_VP          uint8\n",
       "Sex_1                   uint8\n",
       "dtype: object"
      ]
     },
     "execution_count": 32,
     "metadata": {},
     "output_type": "execute_result"
    }
   ],
   "source": [
    "X.dtypes"
   ]
  },
  {
   "cell_type": "markdown",
   "metadata": {},
   "source": [
    "## Split data into training and validation data"
   ]
  },
  {
   "cell_type": "code",
   "execution_count": 33,
   "metadata": {},
   "outputs": [],
   "source": [
    "from sklearn.model_selection import train_test_split\n",
    "\n",
    "X_train, X_test, y_train, y_test = train_test_split(X, y, \n",
    "                                                    test_size=0.3, \n",
    "                                                    random_state=123, \n",
    "                                                    stratify=y)"
   ]
  },
  {
   "cell_type": "code",
   "execution_count": 34,
   "metadata": {},
   "outputs": [
    {
     "name": "stdout",
     "output_type": "stream",
     "text": [
      "(171, 12)\n",
      "(74, 12)\n",
      "(171,)\n",
      "(74,)\n"
     ]
    }
   ],
   "source": [
    "print(X_train.shape)\n",
    "print(X_test.shape)\n",
    "print(y_train.shape)\n",
    "print(y_test.shape)\n"
   ]
  },
  {
   "cell_type": "markdown",
   "metadata": {},
   "source": [
    "## Build a Logistic Regression model"
   ]
  },
  {
   "cell_type": "code",
   "execution_count": 38,
   "metadata": {},
   "outputs": [],
   "source": [
    "from sklearn.linear_model import LogisticRegression\n",
    "from sklearn.metrics import confusion_matrix"
   ]
  },
  {
   "cell_type": "code",
   "execution_count": 39,
   "metadata": {},
   "outputs": [],
   "source": [
    "lrc = LogisticRegression()\n",
    "\n",
    "lrc.fit(X_train,y_train)\n",
    "\n",
    "y_pred_train_lrc = lrc.predict(X_train)\n",
    "y_pred_test_lrc = lrc.predict(X_test)"
   ]
  },
  {
   "cell_type": "code",
   "execution_count": 45,
   "metadata": {},
   "outputs": [
    {
     "name": "stdout",
     "output_type": "stream",
     "text": [
      "0.9707602339181286\n",
      "0.9459459459459459\n"
     ]
    }
   ],
   "source": [
    "train_pred = lrc.predict(X_train)\n",
    "test_pred = lrc.predict(X_test)\n",
    "\n",
    "print(lrc.score(X_train, y_train))\n",
    "print(lrc.score(X_test, y_test))\n",
    "\n",
    "#print(confusion_matrix(y_true=y_test, y_pred = y_pred_test_lrc, labels = ['no', 'yes']))\n",
    "\n",
    "#confusion_matrix_test = confusion_matrix(y_true=y_test, y_pred=y_pred_test_lrc,labels = ['no', 'yes'])\n",
    "#confusion_matrix_test"
   ]
  },
  {
   "cell_type": "code",
   "execution_count": 46,
   "metadata": {},
   "outputs": [],
   "source": [
    "#Predicting on final test data\n",
    "predicted_result =lrc.predict(final_test_data)"
   ]
  },
  {
   "cell_type": "code",
   "execution_count": 47,
   "metadata": {},
   "outputs": [
    {
     "data": {
      "text/plain": [
       "array([0., 0., 0., 0., 0., 1., 0., 0., 0., 1., 0., 0., 1., 0., 0., 0., 0.,\n",
       "       0., 0., 0., 0., 0., 0., 0., 0., 0., 0., 0., 1., 0., 0., 0., 0., 0.,\n",
       "       0., 0., 0., 0., 0., 0., 0., 0., 0., 0., 1., 0., 0., 0., 0., 0., 0.])"
      ]
     },
     "execution_count": 47,
     "metadata": {},
     "output_type": "execute_result"
    }
   ],
   "source": [
    "predicted_result"
   ]
  },
  {
   "cell_type": "code",
   "execution_count": 48,
   "metadata": {},
   "outputs": [],
   "source": [
    "test_attrition['Left_Company'] = predicted_result"
   ]
  },
  {
   "cell_type": "code",
   "execution_count": 49,
   "metadata": {},
   "outputs": [],
   "source": [
    "test_attrition.to_csv(\"GouraviGowda_B66_MiTH_LR.csv\", index=False)"
   ]
  },
  {
   "cell_type": "markdown",
   "metadata": {},
   "source": [
    "## Build SVM model"
   ]
  },
  {
   "cell_type": "code",
   "execution_count": 50,
   "metadata": {},
   "outputs": [],
   "source": [
    "from sklearn.svm import SVC"
   ]
  },
  {
   "cell_type": "code",
   "execution_count": 51,
   "metadata": {},
   "outputs": [],
   "source": [
    "## Use Grid Search for parameter tuning\n",
    "\n",
    "from sklearn.model_selection import GridSearchCV\n",
    "\n",
    "svc_grid = SVC()\n",
    " \n",
    "param_grid = { \n",
    "                'C': [0.001, 0.01, 0.1, 1, 10, 100 ],\n",
    "                'gamma': [0, 0.0001, 0.001, 0.01, 0.1, 1, 10, 100], \n",
    "                'kernel':['linear', 'rbf', 'poly' ]\n",
    "             }\n",
    "\n",
    "svc_cv_grid = GridSearchCV(estimator = svc_grid, param_grid = param_grid, cv = 5)"
   ]
  },
  {
   "cell_type": "code",
   "execution_count": 52,
   "metadata": {},
   "outputs": [
    {
     "name": "stdout",
     "output_type": "stream",
     "text": [
      "Wall time: 3.47 s\n"
     ]
    },
    {
     "name": "stderr",
     "output_type": "stream",
     "text": [
      "C:\\Users\\91916\\Anaconda3\\lib\\site-packages\\sklearn\\model_selection\\_search.py:813: DeprecationWarning: The default of the `iid` parameter will change from True to False in version 0.22 and will be removed in 0.24. This will change numeric results when test-set sizes are unequal.\n",
      "  DeprecationWarning)\n"
     ]
    },
    {
     "data": {
      "text/plain": [
       "GridSearchCV(cv=5, error_score='raise-deprecating',\n",
       "             estimator=SVC(C=1.0, cache_size=200, class_weight=None, coef0=0.0,\n",
       "                           decision_function_shape='ovr', degree=3,\n",
       "                           gamma='auto_deprecated', kernel='rbf', max_iter=-1,\n",
       "                           probability=False, random_state=None, shrinking=True,\n",
       "                           tol=0.001, verbose=False),\n",
       "             iid='warn', n_jobs=None,\n",
       "             param_grid={'C': [0.001, 0.01, 0.1, 1, 10, 100],\n",
       "                         'gamma': [0, 0.0001, 0.001, 0.01, 0.1, 1, 10, 100],\n",
       "                         'kernel': ['linear', 'rbf', 'poly']},\n",
       "             pre_dispatch='2*n_jobs', refit=True, return_train_score=False,\n",
       "             scoring=None, verbose=0)"
      ]
     },
     "execution_count": 52,
     "metadata": {},
     "output_type": "execute_result"
    }
   ],
   "source": [
    "## Fit the grid search model\n",
    "%time svc_cv_grid.fit(X=X_train, y=y_train)"
   ]
  },
  {
   "cell_type": "code",
   "execution_count": 53,
   "metadata": {},
   "outputs": [
    {
     "data": {
      "text/plain": [
       "{'C': 1, 'gamma': 0, 'kernel': 'linear'}"
      ]
     },
     "execution_count": 53,
     "metadata": {},
     "output_type": "execute_result"
    }
   ],
   "source": [
    "# Get the best parameters\n",
    "svc_cv_grid.best_params_"
   ]
  },
  {
   "cell_type": "code",
   "execution_count": 54,
   "metadata": {},
   "outputs": [
    {
     "name": "stdout",
     "output_type": "stream",
     "text": [
      "TRAIN DATA ACCURACY 0.9824561403508771\n",
      "\n",
      "Train data f1-score for class '0' 0.990228013029316\n",
      "\n",
      "Train data f1-score for class '1' 0.9142857142857143\n",
      "\n",
      "\n",
      "--------------------------------------\n",
      "\n",
      "\n",
      "TEST DATA ACCURACY 0.9459459459459459\n",
      "\n",
      "Test data f1-score for class '0' 0.9705882352941176\n",
      "\n",
      "Test data f1-score for class '1' 0.6666666666666666\n"
     ]
    }
   ],
   "source": [
    "## Predict\n",
    "train_predictions = svc_cv_grid.predict(X_train)\n",
    "test_predictions = svc_cv_grid.predict(X_test)\n",
    "\n",
    "### Train data accuracy\n",
    "from sklearn.metrics import accuracy_score,f1_score\n",
    "\n",
    "print(\"TRAIN DATA ACCURACY\",accuracy_score(y_train,train_predictions))\n",
    "print(\"\\nTrain data f1-score for class '0'\",f1_score(y_train,train_predictions,pos_label=0))\n",
    "print(\"\\nTrain data f1-score for class '1'\",f1_score(y_train,train_predictions,pos_label=1))\n",
    "\n",
    "### Test data accuracy\n",
    "print(\"\\n\\n--------------------------------------\\n\\n\")\n",
    "print(\"TEST DATA ACCURACY\",accuracy_score(y_test,test_predictions))\n",
    "print(\"\\nTest data f1-score for class '0'\",f1_score(y_test,test_predictions,pos_label=0))\n",
    "print(\"\\nTest data f1-score for class '1'\",f1_score(y_test,test_predictions,pos_label=1))"
   ]
  },
  {
   "cell_type": "code",
   "execution_count": 55,
   "metadata": {},
   "outputs": [],
   "source": [
    "predicted_result =svc_cv_grid.predict(final_test_data)"
   ]
  },
  {
   "cell_type": "code",
   "execution_count": 56,
   "metadata": {},
   "outputs": [
    {
     "data": {
      "text/plain": [
       "array([0., 0., 0., 0., 0., 1., 0., 1., 0., 1., 0., 0., 1., 0., 0., 0., 0.,\n",
       "       0., 0., 0., 0., 0., 0., 0., 0., 0., 0., 0., 1., 0., 0., 0., 0., 0.,\n",
       "       0., 0., 0., 0., 0., 0., 0., 0., 0., 0., 0., 1., 0., 0., 0., 0., 0.])"
      ]
     },
     "execution_count": 56,
     "metadata": {},
     "output_type": "execute_result"
    }
   ],
   "source": [
    "predicted_result"
   ]
  },
  {
   "cell_type": "code",
   "execution_count": 57,
   "metadata": {},
   "outputs": [],
   "source": [
    "test_attrition['Left_Company'] = predicted_result"
   ]
  },
  {
   "cell_type": "code",
   "execution_count": 58,
   "metadata": {},
   "outputs": [],
   "source": [
    "test_attrition.to_csv(\"GouraviGowda_B66_MiTH_SVM1.csv\", index=False)"
   ]
  },
  {
   "cell_type": "markdown",
   "metadata": {},
   "source": [
    "## Build a Random Forest classifier"
   ]
  },
  {
   "cell_type": "code",
   "execution_count": 59,
   "metadata": {},
   "outputs": [],
   "source": [
    "from sklearn.ensemble import RandomForestClassifier\n",
    "from sklearn.metrics import accuracy_score, recall_score, precision_score"
   ]
  },
  {
   "cell_type": "code",
   "execution_count": 60,
   "metadata": {},
   "outputs": [
    {
     "data": {
      "text/plain": [
       "RandomForestClassifier(bootstrap=True, class_weight=None, criterion='gini',\n",
       "                       max_depth=8, max_features='auto', max_leaf_nodes=None,\n",
       "                       min_impurity_decrease=0.0, min_impurity_split=None,\n",
       "                       min_samples_leaf=1, min_samples_split=2,\n",
       "                       min_weight_fraction_leaf=0.0, n_estimators=10,\n",
       "                       n_jobs=None, oob_score=False, random_state=None,\n",
       "                       verbose=0, warm_start=False)"
      ]
     },
     "execution_count": 60,
     "metadata": {},
     "output_type": "execute_result"
    }
   ],
   "source": [
    "clf = RandomForestClassifier(n_estimators=10,max_depth=8)\n",
    "clf.fit(X=X_train, y=y_train)"
   ]
  },
  {
   "cell_type": "code",
   "execution_count": 61,
   "metadata": {},
   "outputs": [
    {
     "name": "stdout",
     "output_type": "stream",
     "text": [
      "Accuracy for Train set:\n",
      "1.0\n",
      "Accuracy for Test set:\n",
      "0.9459459459459459\n",
      "\n",
      "\n",
      "Recall for Train set:\n",
      "1.0\n",
      "Recall for Test set:\n",
      "0.5\n",
      "\n",
      "\n",
      "Precision for Train set:\n",
      "1.0\n",
      "Precision for Test set:\n",
      "1.0\n"
     ]
    }
   ],
   "source": [
    "y_pred = clf.predict(X_train)\n",
    "print(\"Accuracy for Train set:\")\n",
    "print(accuracy_score(y_train,y_pred))\n",
    "\n",
    "y_pred_test = clf.predict(X_test)\n",
    "print(\"Accuracy for Test set:\")\n",
    "print(accuracy_score(y_test,y_pred_test))\n",
    "\n",
    "print(\"\\n\")\n",
    "\n",
    "print(\"Recall for Train set:\")\n",
    "print(recall_score(y_train,y_pred,pos_label=1))\n",
    "\n",
    "print(\"Recall for Test set:\")\n",
    "print(recall_score(y_test,y_pred_test,pos_label=1))\n",
    "\n",
    "print(\"\\n\")\n",
    "\n",
    "print(\"Precision for Train set:\")\n",
    "print(precision_score(y_train,y_pred,pos_label=1))\n",
    "\n",
    "print(\"Precision for Test set:\")\n",
    "print(precision_score(y_test,y_pred_test,pos_label=1))"
   ]
  },
  {
   "cell_type": "code",
   "execution_count": 62,
   "metadata": {},
   "outputs": [
    {
     "data": {
      "text/plain": [
       "array([0.03643943, 0.06440077, 0.08344511, 0.06965655, 0.03066285,\n",
       "       0.09301244, 0.58494464, 0.01912144, 0.00345079, 0.00151589,\n",
       "       0.0050012 , 0.00834889])"
      ]
     },
     "execution_count": 62,
     "metadata": {},
     "output_type": "execute_result"
    }
   ],
   "source": [
    "# Finding importances of features\n",
    "clf.feature_importances_"
   ]
  },
  {
   "cell_type": "code",
   "execution_count": 63,
   "metadata": {},
   "outputs": [
    {
     "name": "stdout",
     "output_type": "stream",
     "text": [
      "[ 9  8 10 11  7  4  0  1  3  2  5  6]\n"
     ]
    }
   ],
   "source": [
    "importances = clf.feature_importances_\n",
    "indices = np.argsort(importances)\n",
    "print(indices)"
   ]
  },
  {
   "cell_type": "code",
   "execution_count": 64,
   "metadata": {},
   "outputs": [
    {
     "name": "stdout",
     "output_type": "stream",
     "text": [
      "[ 6  5  2  3  1  0  4  7 11 10  8  9]\n"
     ]
    },
    {
     "data": {
      "text/html": [
       "<div>\n",
       "<style scoped>\n",
       "    .dataframe tbody tr th:only-of-type {\n",
       "        vertical-align: middle;\n",
       "    }\n",
       "\n",
       "    .dataframe tbody tr th {\n",
       "        vertical-align: top;\n",
       "    }\n",
       "\n",
       "    .dataframe thead th {\n",
       "        text-align: right;\n",
       "    }\n",
       "</style>\n",
       "<table border=\"1\" class=\"dataframe\">\n",
       "  <thead>\n",
       "    <tr style=\"text-align: right;\">\n",
       "      <th></th>\n",
       "      <th>0</th>\n",
       "      <th>1</th>\n",
       "      <th>2</th>\n",
       "      <th>3</th>\n",
       "      <th>4</th>\n",
       "      <th>5</th>\n",
       "      <th>6</th>\n",
       "      <th>7</th>\n",
       "      <th>8</th>\n",
       "      <th>9</th>\n",
       "      <th>10</th>\n",
       "      <th>11</th>\n",
       "    </tr>\n",
       "  </thead>\n",
       "  <tbody>\n",
       "    <tr>\n",
       "      <th>0</th>\n",
       "      <td>Job_History_Count</td>\n",
       "      <td>ActualTimeSpent</td>\n",
       "      <td>Hours_off_Duty</td>\n",
       "      <td>Touring_Hours</td>\n",
       "      <td>Billable_Hours</td>\n",
       "      <td>TotalWorkingHours</td>\n",
       "      <td>NoOfProjects</td>\n",
       "      <td>Designation_Junior</td>\n",
       "      <td>Sex_1</td>\n",
       "      <td>Designation_VP</td>\n",
       "      <td>Designation_MD</td>\n",
       "      <td>Designation_Senior</td>\n",
       "    </tr>\n",
       "    <tr>\n",
       "      <th>1</th>\n",
       "      <td>0.584945</td>\n",
       "      <td>0.0930124</td>\n",
       "      <td>0.0834451</td>\n",
       "      <td>0.0696565</td>\n",
       "      <td>0.0644008</td>\n",
       "      <td>0.0364394</td>\n",
       "      <td>0.0306629</td>\n",
       "      <td>0.0191214</td>\n",
       "      <td>0.00834889</td>\n",
       "      <td>0.0050012</td>\n",
       "      <td>0.00345079</td>\n",
       "      <td>0.00151589</td>\n",
       "    </tr>\n",
       "  </tbody>\n",
       "</table>\n",
       "</div>"
      ],
      "text/plain": [
       "                   0                1               2              3  \\\n",
       "0  Job_History_Count  ActualTimeSpent  Hours_off_Duty  Touring_Hours   \n",
       "1           0.584945        0.0930124       0.0834451      0.0696565   \n",
       "\n",
       "                4                  5             6                   7  \\\n",
       "0  Billable_Hours  TotalWorkingHours  NoOfProjects  Designation_Junior   \n",
       "1       0.0644008          0.0364394     0.0306629           0.0191214   \n",
       "\n",
       "            8               9              10                  11  \n",
       "0       Sex_1  Designation_VP  Designation_MD  Designation_Senior  \n",
       "1  0.00834889       0.0050012      0.00345079          0.00151589  "
      ]
     },
     "execution_count": 64,
     "metadata": {},
     "output_type": "execute_result"
    }
   ],
   "source": [
    "indices1 = np.argsort(importances)[::-1]\n",
    "print(indices1)\n",
    "pd.DataFrame([X_train.columns[indices1],np.sort(importances)[::-1]])"
   ]
  },
  {
   "cell_type": "code",
   "execution_count": 65,
   "metadata": {},
   "outputs": [
    {
     "data": {
      "image/png": "[encoded data removed]",
      "text/plain": [
       "<Figure size 432x288 with 1 Axes>"
      ]
     },
     "metadata": {
      "needs_background": "light"
     },
     "output_type": "display_data"
    }
   ],
   "source": [
    "# Finding the relative importance of different features towards the target variable\n",
    "import matplotlib.pyplot as plt\n",
    "%matplotlib inline\n",
    "features = X_train.columns\n",
    "\n",
    "plt.title('Feature Importances')\n",
    "plt.barh(range(len(indices)),importances[indices], color='b')\n",
    "plt.yticks(range(len(indices)), [features[i] for i in indices])\n",
    "plt.xlabel('Relative Importance')\n",
    "plt.show()"
   ]
  },
  {
   "cell_type": "code",
   "execution_count": 66,
   "metadata": {},
   "outputs": [],
   "source": [
    "# Hyper parameter tuning\n",
    "rfc = RandomForestClassifier(n_jobs=-1, max_features='sqrt') \n",
    " \n",
    "# Use a grid over parameters of interest\n",
    "param_grid = { \n",
    "           \"n_estimators\" : [9, 18, 27, 36, 45, 54, 63],\n",
    "           \"max_depth\" : [2,3,5,7],\n",
    "           \"min_samples_leaf\" : [2, 4]}\n",
    "\n",
    "scores = ['precision', 'recall']"
   ]
  },
  {
   "cell_type": "code",
   "execution_count": 67,
   "metadata": {},
   "outputs": [
    {
     "name": "stdout",
     "output_type": "stream",
     "text": [
      "# Tuning hyper-parameters for precision\n",
      "\n",
      "\n"
     ]
    },
    {
     "name": "stderr",
     "output_type": "stream",
     "text": [
      "C:\\Users\\91916\\Anaconda3\\lib\\site-packages\\sklearn\\model_selection\\_search.py:813: DeprecationWarning: The default of the `iid` parameter will change from True to False in version 0.22 and will be removed in 0.24. This will change numeric results when test-set sizes are unequal.\n",
      "  DeprecationWarning)\n"
     ]
    },
    {
     "name": "stdout",
     "output_type": "stream",
     "text": [
      "Best parameters set found on training set:\n",
      "\n",
      "\n",
      "{'max_depth': 3, 'min_samples_leaf': 2, 'n_estimators': 18}\n",
      "\n",
      "\n",
      "Grid scores on training set:\n",
      "\n",
      "\n",
      "0.870 for {'max_depth': 2, 'min_samples_leaf': 2, 'n_estimators': 9}\n",
      "0.657 for {'max_depth': 2, 'min_samples_leaf': 2, 'n_estimators': 18}\n",
      "0.547 for {'max_depth': 2, 'min_samples_leaf': 2, 'n_estimators': 27}\n",
      "0.663 for {'max_depth': 2, 'min_samples_leaf': 2, 'n_estimators': 36}\n",
      "0.867 for {'max_depth': 2, 'min_samples_leaf': 2, 'n_estimators': 45}\n",
      "0.877 for {'max_depth': 2, 'min_samples_leaf': 2, 'n_estimators': 54}\n",
      "0.873 for {'max_depth': 2, 'min_samples_leaf': 2, 'n_estimators': 63}\n",
      "0.759 for {'max_depth': 2, 'min_samples_leaf': 4, 'n_estimators': 9}\n",
      "0.765 for {'max_depth': 2, 'min_samples_leaf': 4, 'n_estimators': 18}\n",
      "0.765 for {'max_depth': 2, 'min_samples_leaf': 4, 'n_estimators': 27}\n",
      "0.864 for {'max_depth': 2, 'min_samples_leaf': 4, 'n_estimators': 36}\n",
      "0.768 for {'max_depth': 2, 'min_samples_leaf': 4, 'n_estimators': 45}\n",
      "0.771 for {'max_depth': 2, 'min_samples_leaf': 4, 'n_estimators': 54}\n",
      "0.759 for {'max_depth': 2, 'min_samples_leaf': 4, 'n_estimators': 63}\n",
      "0.929 for {'max_depth': 3, 'min_samples_leaf': 2, 'n_estimators': 9}\n",
      "0.991 for {'max_depth': 3, 'min_samples_leaf': 2, 'n_estimators': 18}\n",
      "0.876 for {'max_depth': 3, 'min_samples_leaf': 2, 'n_estimators': 27}\n",
      "0.873 for {'max_depth': 3, 'min_samples_leaf': 2, 'n_estimators': 36}\n",
      "0.882 for {'max_depth': 3, 'min_samples_leaf': 2, 'n_estimators': 45}\n",
      "0.882 for {'max_depth': 3, 'min_samples_leaf': 2, 'n_estimators': 54}\n",
      "0.882 for {'max_depth': 3, 'min_samples_leaf': 2, 'n_estimators': 63}\n",
      "0.975 for {'max_depth': 3, 'min_samples_leaf': 4, 'n_estimators': 9}\n",
      "0.882 for {'max_depth': 3, 'min_samples_leaf': 4, 'n_estimators': 18}\n",
      "0.879 for {'max_depth': 3, 'min_samples_leaf': 4, 'n_estimators': 27}\n",
      "0.774 for {'max_depth': 3, 'min_samples_leaf': 4, 'n_estimators': 36}\n",
      "0.870 for {'max_depth': 3, 'min_samples_leaf': 4, 'n_estimators': 45}\n",
      "0.777 for {'max_depth': 3, 'min_samples_leaf': 4, 'n_estimators': 54}\n",
      "0.876 for {'max_depth': 3, 'min_samples_leaf': 4, 'n_estimators': 63}\n",
      "0.882 for {'max_depth': 5, 'min_samples_leaf': 2, 'n_estimators': 9}\n",
      "0.888 for {'max_depth': 5, 'min_samples_leaf': 2, 'n_estimators': 18}\n",
      "0.774 for {'max_depth': 5, 'min_samples_leaf': 2, 'n_estimators': 27}\n",
      "0.982 for {'max_depth': 5, 'min_samples_leaf': 2, 'n_estimators': 36}\n",
      "0.882 for {'max_depth': 5, 'min_samples_leaf': 2, 'n_estimators': 45}\n",
      "0.882 for {'max_depth': 5, 'min_samples_leaf': 2, 'n_estimators': 54}\n",
      "0.882 for {'max_depth': 5, 'min_samples_leaf': 2, 'n_estimators': 63}\n",
      "0.873 for {'max_depth': 5, 'min_samples_leaf': 4, 'n_estimators': 9}\n",
      "0.771 for {'max_depth': 5, 'min_samples_leaf': 4, 'n_estimators': 18}\n",
      "0.771 for {'max_depth': 5, 'min_samples_leaf': 4, 'n_estimators': 27}\n",
      "0.777 for {'max_depth': 5, 'min_samples_leaf': 4, 'n_estimators': 36}\n",
      "0.876 for {'max_depth': 5, 'min_samples_leaf': 4, 'n_estimators': 45}\n",
      "0.876 for {'max_depth': 5, 'min_samples_leaf': 4, 'n_estimators': 54}\n",
      "0.882 for {'max_depth': 5, 'min_samples_leaf': 4, 'n_estimators': 63}\n",
      "0.852 for {'max_depth': 7, 'min_samples_leaf': 2, 'n_estimators': 9}\n",
      "0.885 for {'max_depth': 7, 'min_samples_leaf': 2, 'n_estimators': 18}\n",
      "0.876 for {'max_depth': 7, 'min_samples_leaf': 2, 'n_estimators': 27}\n",
      "0.882 for {'max_depth': 7, 'min_samples_leaf': 2, 'n_estimators': 36}\n",
      "0.882 for {'max_depth': 7, 'min_samples_leaf': 2, 'n_estimators': 45}\n",
      "0.882 for {'max_depth': 7, 'min_samples_leaf': 2, 'n_estimators': 54}\n",
      "0.882 for {'max_depth': 7, 'min_samples_leaf': 2, 'n_estimators': 63}\n",
      "0.879 for {'max_depth': 7, 'min_samples_leaf': 4, 'n_estimators': 9}\n",
      "0.882 for {'max_depth': 7, 'min_samples_leaf': 4, 'n_estimators': 18}\n",
      "0.870 for {'max_depth': 7, 'min_samples_leaf': 4, 'n_estimators': 27}\n",
      "0.774 for {'max_depth': 7, 'min_samples_leaf': 4, 'n_estimators': 36}\n",
      "0.882 for {'max_depth': 7, 'min_samples_leaf': 4, 'n_estimators': 45}\n",
      "0.774 for {'max_depth': 7, 'min_samples_leaf': 4, 'n_estimators': 54}\n",
      "0.777 for {'max_depth': 7, 'min_samples_leaf': 4, 'n_estimators': 63}\n",
      "# Tuning hyper-parameters for recall\n",
      "\n",
      "\n"
     ]
    },
    {
     "name": "stderr",
     "output_type": "stream",
     "text": [
      "C:\\Users\\91916\\Anaconda3\\lib\\site-packages\\sklearn\\model_selection\\_search.py:813: DeprecationWarning: The default of the `iid` parameter will change from True to False in version 0.22 and will be removed in 0.24. This will change numeric results when test-set sizes are unequal.\n",
      "  DeprecationWarning)\n"
     ]
    },
    {
     "name": "stdout",
     "output_type": "stream",
     "text": [
      "Best parameters set found on training set:\n",
      "\n",
      "\n",
      "{'max_depth': 3, 'min_samples_leaf': 2, 'n_estimators': 63}\n",
      "\n",
      "\n",
      "Grid scores on training set:\n",
      "\n",
      "\n",
      "0.709 for {'max_depth': 2, 'min_samples_leaf': 2, 'n_estimators': 9}\n",
      "0.804 for {'max_depth': 2, 'min_samples_leaf': 2, 'n_estimators': 18}\n",
      "0.783 for {'max_depth': 2, 'min_samples_leaf': 2, 'n_estimators': 27}\n",
      "0.653 for {'max_depth': 2, 'min_samples_leaf': 2, 'n_estimators': 36}\n",
      "0.550 for {'max_depth': 2, 'min_samples_leaf': 2, 'n_estimators': 45}\n",
      "0.727 for {'max_depth': 2, 'min_samples_leaf': 2, 'n_estimators': 54}\n",
      "0.779 for {'max_depth': 2, 'min_samples_leaf': 2, 'n_estimators': 63}\n",
      "0.550 for {'max_depth': 2, 'min_samples_leaf': 4, 'n_estimators': 9}\n",
      "0.550 for {'max_depth': 2, 'min_samples_leaf': 4, 'n_estimators': 18}\n",
      "0.702 for {'max_depth': 2, 'min_samples_leaf': 4, 'n_estimators': 27}\n",
      "0.526 for {'max_depth': 2, 'min_samples_leaf': 4, 'n_estimators': 36}\n",
      "0.550 for {'max_depth': 2, 'min_samples_leaf': 4, 'n_estimators': 45}\n",
      "0.601 for {'max_depth': 2, 'min_samples_leaf': 4, 'n_estimators': 54}\n",
      "0.677 for {'max_depth': 2, 'min_samples_leaf': 4, 'n_estimators': 63}\n",
      "0.811 for {'max_depth': 3, 'min_samples_leaf': 2, 'n_estimators': 9}\n",
      "0.786 for {'max_depth': 3, 'min_samples_leaf': 2, 'n_estimators': 18}\n",
      "0.854 for {'max_depth': 3, 'min_samples_leaf': 2, 'n_estimators': 27}\n",
      "0.727 for {'max_depth': 3, 'min_samples_leaf': 2, 'n_estimators': 36}\n",
      "0.779 for {'max_depth': 3, 'min_samples_leaf': 2, 'n_estimators': 45}\n",
      "0.854 for {'max_depth': 3, 'min_samples_leaf': 2, 'n_estimators': 54}\n",
      "0.886 for {'max_depth': 3, 'min_samples_leaf': 2, 'n_estimators': 63}\n",
      "0.804 for {'max_depth': 3, 'min_samples_leaf': 4, 'n_estimators': 9}\n",
      "0.700 for {'max_depth': 3, 'min_samples_leaf': 4, 'n_estimators': 18}\n",
      "0.727 for {'max_depth': 3, 'min_samples_leaf': 4, 'n_estimators': 27}\n",
      "0.779 for {'max_depth': 3, 'min_samples_leaf': 4, 'n_estimators': 36}\n",
      "0.804 for {'max_depth': 3, 'min_samples_leaf': 4, 'n_estimators': 45}\n",
      "0.804 for {'max_depth': 3, 'min_samples_leaf': 4, 'n_estimators': 54}\n",
      "0.754 for {'max_depth': 3, 'min_samples_leaf': 4, 'n_estimators': 63}\n",
      "0.753 for {'max_depth': 5, 'min_samples_leaf': 2, 'n_estimators': 9}\n",
      "0.804 for {'max_depth': 5, 'min_samples_leaf': 2, 'n_estimators': 18}\n",
      "0.829 for {'max_depth': 5, 'min_samples_leaf': 2, 'n_estimators': 27}\n",
      "0.836 for {'max_depth': 5, 'min_samples_leaf': 2, 'n_estimators': 36}\n",
      "0.804 for {'max_depth': 5, 'min_samples_leaf': 2, 'n_estimators': 45}\n",
      "0.886 for {'max_depth': 5, 'min_samples_leaf': 2, 'n_estimators': 54}\n",
      "0.836 for {'max_depth': 5, 'min_samples_leaf': 2, 'n_estimators': 63}\n",
      "0.804 for {'max_depth': 5, 'min_samples_leaf': 4, 'n_estimators': 9}\n",
      "0.779 for {'max_depth': 5, 'min_samples_leaf': 4, 'n_estimators': 18}\n",
      "0.827 for {'max_depth': 5, 'min_samples_leaf': 4, 'n_estimators': 27}\n",
      "0.836 for {'max_depth': 5, 'min_samples_leaf': 4, 'n_estimators': 36}\n",
      "0.779 for {'max_depth': 5, 'min_samples_leaf': 4, 'n_estimators': 45}\n",
      "0.804 for {'max_depth': 5, 'min_samples_leaf': 4, 'n_estimators': 54}\n",
      "0.779 for {'max_depth': 5, 'min_samples_leaf': 4, 'n_estimators': 63}\n",
      "0.883 for {'max_depth': 7, 'min_samples_leaf': 2, 'n_estimators': 9}\n",
      "0.804 for {'max_depth': 7, 'min_samples_leaf': 2, 'n_estimators': 18}\n",
      "0.829 for {'max_depth': 7, 'min_samples_leaf': 2, 'n_estimators': 27}\n",
      "0.753 for {'max_depth': 7, 'min_samples_leaf': 2, 'n_estimators': 36}\n",
      "0.804 for {'max_depth': 7, 'min_samples_leaf': 2, 'n_estimators': 45}\n",
      "0.854 for {'max_depth': 7, 'min_samples_leaf': 2, 'n_estimators': 54}\n",
      "0.804 for {'max_depth': 7, 'min_samples_leaf': 2, 'n_estimators': 63}\n",
      "0.678 for {'max_depth': 7, 'min_samples_leaf': 4, 'n_estimators': 9}\n",
      "0.676 for {'max_depth': 7, 'min_samples_leaf': 4, 'n_estimators': 18}\n",
      "0.779 for {'max_depth': 7, 'min_samples_leaf': 4, 'n_estimators': 27}\n",
      "0.811 for {'max_depth': 7, 'min_samples_leaf': 4, 'n_estimators': 36}\n",
      "0.804 for {'max_depth': 7, 'min_samples_leaf': 4, 'n_estimators': 45}\n",
      "0.804 for {'max_depth': 7, 'min_samples_leaf': 4, 'n_estimators': 54}\n",
      "0.779 for {'max_depth': 7, 'min_samples_leaf': 4, 'n_estimators': 63}\n"
     ]
    }
   ],
   "source": [
    "for score in scores:\n",
    "    print(\"# Tuning hyper-parameters for %s\" % score)\n",
    "    print(\"\\n\")\n",
    "\n",
    "    clf = GridSearchCV(estimator=rfc, param_grid=param_grid,cv=5,\n",
    "                       scoring='%s_macro' % score)\n",
    "    clf.fit(X_train, y_train)\n",
    "\n",
    "    print(\"Best parameters set found on training set:\")\n",
    "    print(\"\\n\")\n",
    "    print(clf.best_params_)\n",
    "    print(\"\\n\")\n",
    "    \n",
    "    print(\"Grid scores on training set:\")\n",
    "    print(\"\\n\")\n",
    "    means = clf.cv_results_['mean_test_score']\n",
    "    for mean, params in zip(means, clf.cv_results_['params']):\n",
    "        print(\"%0.3f for %r\"\n",
    "              % (mean, params))"
   ]
  },
  {
   "cell_type": "code",
   "execution_count": 68,
   "metadata": {},
   "outputs": [
    {
     "name": "stderr",
     "output_type": "stream",
     "text": [
      "C:\\Users\\91916\\Anaconda3\\lib\\site-packages\\sklearn\\model_selection\\_search.py:813: DeprecationWarning: The default of the `iid` parameter will change from True to False in version 0.22 and will be removed in 0.24. This will change numeric results when test-set sizes are unequal.\n",
      "  DeprecationWarning)\n"
     ]
    },
    {
     "data": {
      "text/plain": [
       "GridSearchCV(cv=5, error_score='raise-deprecating',\n",
       "             estimator=RandomForestClassifier(bootstrap=True, class_weight=None,\n",
       "                                              criterion='gini', max_depth=None,\n",
       "                                              max_features='sqrt',\n",
       "                                              max_leaf_nodes=None,\n",
       "                                              min_impurity_decrease=0.0,\n",
       "                                              min_impurity_split=None,\n",
       "                                              min_samples_leaf=1,\n",
       "                                              min_samples_split=2,\n",
       "                                              min_weight_fraction_leaf=0.0,\n",
       "                                              n_estimators='warn', n_jobs=-1,\n",
       "                                              oob_score=False,\n",
       "                                              random_state=None, verbose=0,\n",
       "                                              warm_start=False),\n",
       "             iid='warn', n_jobs=None,\n",
       "             param_grid={'max_depth': [2, 3, 5, 7], 'min_samples_leaf': [2, 4],\n",
       "                         'n_estimators': [9, 18, 27, 36, 45, 54, 63]},\n",
       "             pre_dispatch='2*n_jobs', refit=True, return_train_score=False,\n",
       "             scoring=None, verbose=0)"
      ]
     },
     "execution_count": 68,
     "metadata": {},
     "output_type": "execute_result"
    }
   ],
   "source": [
    "CV_rfc = GridSearchCV(estimator=rfc, param_grid=param_grid,cv=5)\n",
    "CV_rfc.fit(X=X_train, y=y_train)"
   ]
  },
  {
   "cell_type": "code",
   "execution_count": 69,
   "metadata": {},
   "outputs": [
    {
     "name": "stdout",
     "output_type": "stream",
     "text": [
      "0.9766081871345029 {'max_depth': 5, 'min_samples_leaf': 2, 'n_estimators': 18}\n"
     ]
    }
   ],
   "source": [
    "print(CV_rfc.best_score_, CV_rfc.best_params_)"
   ]
  },
  {
   "cell_type": "code",
   "execution_count": 70,
   "metadata": {},
   "outputs": [
    {
     "name": "stdout",
     "output_type": "stream",
     "text": [
      "0.9459459459459459\n"
     ]
    }
   ],
   "source": [
    "y_pred_test=CV_rfc.predict(X_test)\n",
    "print(accuracy_score(y_test,y_pred_test))"
   ]
  },
  {
   "cell_type": "code",
   "execution_count": 71,
   "metadata": {},
   "outputs": [],
   "source": [
    "predicted_result =CV_rfc.predict(final_test_data)"
   ]
  },
  {
   "cell_type": "code",
   "execution_count": 72,
   "metadata": {},
   "outputs": [
    {
     "data": {
      "text/plain": [
       "array([0., 0., 0., 0., 0., 1., 0., 1., 0., 1., 0., 0., 1., 0., 0., 0., 0.,\n",
       "       0., 0., 0., 0., 0., 0., 0., 0., 0., 0., 0., 1., 0., 0., 0., 0., 0.,\n",
       "       0., 0., 0., 0., 0., 0., 0., 0., 0., 0., 0., 1., 0., 0., 0., 0., 0.])"
      ]
     },
     "execution_count": 72,
     "metadata": {},
     "output_type": "execute_result"
    }
   ],
   "source": [
    "predicted_result"
   ]
  },
  {
   "cell_type": "code",
   "execution_count": 73,
   "metadata": {},
   "outputs": [],
   "source": [
    "test_attrition['Left_Company'] = predicted_result"
   ]
  },
  {
   "cell_type": "code",
   "execution_count": 74,
   "metadata": {},
   "outputs": [],
   "source": [
    "test_attrition.to_csv(\"GouraviGowda_B66_MiTH_RandomForest.csv\", index=False)"
   ]
  }
 ],
 "metadata": {
  "kernelspec": {
   "display_name": "Python 3",
   "language": "python",
   "name": "python3"
  },
  "language_info": {
   "codemirror_mode": {
    "name": "ipython",
    "version": 3
   },
   "file_extension": ".py",
   "mimetype": "text/x-python",
   "name": "python",
   "nbconvert_exporter": "python",
   "pygments_lexer": "ipython3",
   "version": "3.6.5"
  }
 },
 "nbformat": 4,
 "nbformat_minor": 2
}
